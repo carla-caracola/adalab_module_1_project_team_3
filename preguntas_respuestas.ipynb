{
 "cells": [
  {
   "cell_type": "markdown",
   "metadata": {},
   "source": [
    "# Preguntas y Respuestas\n",
    "\n",
    "\n",
    " Reglas del Juego de \"Preguntas y Respuestas de Geografía\":\n",
    "    - El juego consiste en hacer preguntas de geografía y que el jugador adivine la respuesta correcta.\n",
    "\n",
    "    - Cada pregunta tiene una respuesta única y correcta.\n",
    "\n",
    "    - El jugador tiene un número limitado de intentos para responder correctamente a cada pregunta.\n",
    "\n",
    "    - El juego sigue hasta que el jugador responda incorrectamente 3 de veces o haya respondido 5 preguntas correctamente.\n"
   ]
  },
  {
   "cell_type": "code",
   "execution_count": 2,
   "metadata": {},
   "outputs": [
    {
     "data": {
      "text/plain": [
       "{'¿Cuàl es el país más grande del mundo por superficie?': 'Rusia',\n",
       " '¿En qué continente se encuentra el desierto del Sahara?': 'Africa',\n",
       " '¿Cuál es el río más largo del mundo?': ' Amazonas',\n",
       " '¿Qué país tiene más islas en su territorio?': 'Suecia',\n",
       " '¿Cuál es la capital de Australia?': 'Canberra',\n",
       " '¿Cuál es el país más pequeño del mundo?': 'Vaticano',\n",
       " '¿Qué país tiene más habitantes en la actualidad?': 'China',\n",
       " '¿Qué río pasa por más países?': 'Danubio',\n",
       " '¿En qué país se hablan más idiomas?': 'Papua, nueva guinea',\n",
       " '¿Cuántas comunidades autónomas tiene España?': '17',\n",
       " '¿Cuál es la única ciudad que se encuentra en dos continentes diferentes?': 'Estambul',\n",
       " '¿Cuál es la isla más grande del mundo que no es un continente?': 'Groenlandia',\n",
       " '¿Cuál es el único continente sin desiertos?': 'Europa',\n",
       " '¿En qué país se encuentra el Valle de la Luna, conocido por su paisaje similar al de la superficie lunar?': 'Chile',\n",
       " '¿Cuál es el país más nuevo del mundo, habiendo obtenido su independencia en 2011?': 'Sudan del Sur',\n",
       " '¿Cuantos océanos hay en el mundo?': '5',\n",
       " '¿Donde se encuentra el mayor número de pirámides del mundo ?': 'Sudan',\n",
       " '¿Que es Madagascar? ': 'La isla mas grande de Africa',\n",
       " '¿Que pais se encuentra entre dos continentes?': ' Turquia ',\n",
       " '¿Cual es la montaña mas alta del mundo?': 'Everest',\n",
       " '¿Cuàntas islas grandes forman Hawai?': '8',\n",
       " '¿En que Estado de los Estados Unidos se encuentran las cataratas del Niàgara?': 'Nueva York',\n",
       " '¿Cual es el nombre del Rio mas grande que fluye a traves de Paris?': 'Sena',\n",
       " '¿Cual es la capital de Canadà?': 'Ottawa',\n",
       " '¿Cual es la moneda oficial de India?': 'Rupia',\n",
       " '¿Como se llama la segunda montaña mas alta del mundo?': 'K2',\n",
       " '¿En que país esta el monte Everest?': 'Nepal',\n",
       " '¿En que pais estan las lineas de Nazca?': 'Peru',\n",
       " 'Si estoy visitando la capital de Bielorrusia ¿En que ciudad estoy?': 'Minsk',\n",
       " '¿Cual es la capital de Corea del Sur?': 'Seul',\n",
       " '¿Que pais tiene la mayor esperanza de vida?': 'Hong Kong',\n",
       " '¿Que pais bebe mas cafe por persona?': 'Finlandia'}"
      ]
     },
     "execution_count": 2,
     "metadata": {},
     "output_type": "execute_result"
    }
   ],
   "source": [
    "diccionario_preguntas_respuestas  = {\"¿Cuàl es el país más grande del mundo por superficie?\":\"Rusia\",\n",
    "\"¿En qué continente se encuentra el desierto del Sahara?\":\"Africa\",\n",
    "\"¿Cuál es el río más largo del mundo?\":\" Amazonas\", \n",
    "\"¿Qué país tiene más islas en su territorio?\":\"Suecia\",\n",
    "\"¿Cuál es la capital de Australia?\":\"Canberra\",\n",
    "\"¿Cuál es el país más pequeño del mundo?\":\"Vaticano\",\n",
    "\"¿Qué país tiene más habitantes en la actualidad?\":\"China\",\n",
    "\"¿Qué río pasa por más países?\":\"Danubio\",\n",
    "\"¿En qué país se hablan más idiomas?\":\"Papua, nueva guinea\",\n",
    "\"¿Cuántas comunidades autónomas tiene España?\":\"17\",\n",
    "\"¿Cuál es la única ciudad que se encuentra en dos continentes diferentes?\":\"Estambul\",\n",
    "\"¿Cuál es la isla más grande del mundo que no es un continente?\":\"Groenlandia\",\n",
    "\"¿Cuál es el único continente sin desiertos?\": \"Europa\",\n",
    "\"¿En qué país se encuentra el Valle de la Luna, conocido por su paisaje similar al de la superficie lunar?\": \"Chile\",\n",
    "\"¿Cuál es el país más nuevo del mundo, habiendo obtenido su independencia en 2011?\":\"Sudan del Sur\",\n",
    "\"¿Cuantos océanos hay en el mundo?\":\"5\",\n",
    "\"¿Donde se encuentra el mayor número de pirámides del mundo ?\" : \"Sudan\" , \n",
    "\"¿Que es Madagascar? \":\"La isla mas grande de Africa\",\n",
    "\"¿Que pais se encuentra entre dos continentes?\": \" Turquia \",\n",
    "\"¿Cual es la montaña mas alta del mundo?\":\"Everest\" ,\n",
    "\"¿Cuàntas islas grandes forman Hawai?\": \"8\", \n",
    "\"¿En que Estado de los Estados Unidos se encuentran las cataratas del Niàgara?\": \"Nueva York\",\n",
    "\"¿Cual es el nombre del Rio mas grande que fluye a traves de Paris?\": \"Sena\",\n",
    "\"¿Cual es la capital de Canadà?\": \"Ottawa\",\"¿Cual es la moneda oficial de India?\": \"Rupia\",\n",
    "\"¿Como se llama la segunda montaña mas alta del mundo?\": \"K2\",\n",
    "\"¿En que país esta el monte Everest?\":\"Nepal\",\n",
    "\"¿En que pais estan las lineas de Nazca?\": \"Peru\",\n",
    "\"Si estoy visitando la capital de Bielorrusia ¿En que ciudad estoy?\": \"Minsk\",\n",
    "\"¿Cual es la capital de Corea del Sur?\":\"Seul\",\n",
    "\"¿Que pais tiene la mayor esperanza de vida?\":\"Hong Kong\", \n",
    "\"¿Que pais bebe mas cafe por persona?\": \"Finlandia\"}\n",
    "diccionario_preguntas_respuestas"
   ]
  },
  {
   "cell_type": "code",
   "execution_count": 29,
   "metadata": {},
   "outputs": [
    {
     "name": "stdout",
     "output_type": "stream",
     "text": [
      "¿Que río pasa por más países\n",
      "¿Que río pasa por más países\n",
      "Nilo\n",
      "¡Oh, fallaste!\n",
      "¿Que río pasa por más países\n",
      "¿Que río pasa por más países\n",
      "DANUBIO\n",
      "¡Oh, fallaste!\n",
      "¿Cuantos océanos hay en el mundo\n",
      "¿Cuantos océanos hay en el mundo\n",
      "5\n",
      "¡Acertaste!\n",
      "¿Cuál es el país más nuevo del mundo, habiendo obtenido su independencia en 2011\n",
      "¿Cuál es el país más nuevo del mundo, habiendo obtenido su independencia en 2011\n",
      "SUDAN DEL SUR\n",
      "¡Acertaste!\n",
      "¿Cual es la montaña mas alta del mundo\n",
      "¿Cual es la montaña mas alta del mundo\n",
      "f\n",
      "¡Oh, fallaste!\n",
      "Perdiste\n"
     ]
    }
   ],
   "source": [
    "import random\n",
    "\n",
    "#Si se para cuando  llegas a los 5 puntos \n",
    "#Dar respuesta correcta cuando se falla, decir cuantas oportunidades quedan y cuantos puntos llevas\n",
    "\n",
    "#minusculas, strings, no da respuesta cuando aciertas\n",
    "\n",
    "\n",
    "puntos = 0\n",
    "oportunidades = 3\n",
    "\n",
    "while oportunidades > 0:\n",
    "\n",
    "    pregunta = random.choice(list(diccionario_preguntas_respuestas))\n",
    "    #pregunta = str(pregunta)\n",
    "    print(pregunta) #como unir pregunta y respuesta\n",
    "    respuesta_usuario = input(pregunta) #crear un mensaje\n",
    "    respuesta_correcta = diccionario_preguntas_respuestas.get(pregunta)\n",
    "    print(pregunta)\n",
    "    print(respuesta_usuario)\n",
    "    if respuesta_usuario.lower() == respuesta_correcta.lower():\n",
    "        print('¡Acertaste!')\n",
    "        puntos += 1\n",
    "    else:\n",
    "        print('¡Oh, fallaste!')\n",
    "        oportunidades -= 1  \n",
    "       \n",
    "    if puntos == 5:\n",
    "        print('Enhorabuena, has conseguido 5 puntos, ¡GANASTE!')\n",
    "        break\n",
    "    print('-------------')\n",
    "else: \n",
    "    print('Perdiste')\n",
    "    "
   ]
  },
  {
   "cell_type": "markdown",
   "metadata": {},
   "source": [
    "\n",
    "   "
   ]
  },
  {
   "cell_type": "code",
   "execution_count": 7,
   "metadata": {},
   "outputs": [
    {
     "data": {
      "text/plain": [
       "'No existe'"
      ]
     },
     "execution_count": 7,
     "metadata": {},
     "output_type": "execute_result"
    }
   ],
   "source": [
    "diccionario_preguntas_respuestas.get ('xxx' , 'No existe')"
   ]
  },
  {
   "cell_type": "code",
   "execution_count": 14,
   "metadata": {},
   "outputs": [
    {
     "ename": "TypeError",
     "evalue": "unhashable type: 'list'",
     "output_type": "error",
     "traceback": [
      "\u001b[0;31m---------------------------------------------------------------------------\u001b[0m",
      "\u001b[0;31mTypeError\u001b[0m                                 Traceback (most recent call last)",
      "\u001b[0;32m/tmp/ipykernel_3794/354789433.py\u001b[0m in \u001b[0;36m<module>\u001b[0;34m\u001b[0m\n\u001b[0;32m----> 1\u001b[0;31m \u001b[0mrespuesta_correcta\u001b[0m \u001b[0;34m=\u001b[0m \u001b[0mdiccionario_preguntas_respuestas\u001b[0m\u001b[0;34m.\u001b[0m\u001b[0mget\u001b[0m\u001b[0;34m(\u001b[0m\u001b[0mpregunta\u001b[0m\u001b[0;34m)\u001b[0m\u001b[0;34m\u001b[0m\u001b[0;34m\u001b[0m\u001b[0m\n\u001b[0m",
      "\u001b[0;31mTypeError\u001b[0m: unhashable type: 'list'"
     ]
    }
   ],
   "source": [
    "respuesta_correcta = diccionario_preguntas_respuestas.get(pregunta)"
   ]
  },
  {
   "cell_type": "code",
   "execution_count": 20,
   "metadata": {},
   "outputs": [],
   "source": [
    "pregunta = random.choices(list(diccionario_preguntas_respuestas))"
   ]
  },
  {
   "cell_type": "code",
   "execution_count": 26,
   "metadata": {},
   "outputs": [
    {
     "data": {
      "text/plain": [
       "'¿Que río pasa por más países'"
      ]
     },
     "execution_count": 26,
     "metadata": {},
     "output_type": "execute_result"
    }
   ],
   "source": [
    "random.choice(list(diccionario_preguntas_respuestas))"
   ]
  }
 ],
 "metadata": {
  "kernelspec": {
   "display_name": "adalab",
   "language": "python",
   "name": "python3"
  },
  "language_info": {
   "codemirror_mode": {
    "name": "ipython",
    "version": 3
   },
   "file_extension": ".py",
   "mimetype": "text/x-python",
   "name": "python",
   "nbconvert_exporter": "python",
   "pygments_lexer": "ipython3",
   "version": "3.9.19"
  }
 },
 "nbformat": 4,
 "nbformat_minor": 2
}
