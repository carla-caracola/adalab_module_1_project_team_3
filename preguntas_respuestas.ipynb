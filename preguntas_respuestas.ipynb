{
 "cells": [
  {
   "cell_type": "markdown",
   "metadata": {},
   "source": [
    "# Preguntas y Respuestas\n",
    "\n",
    "\n",
    " Reglas del Juego de \"Preguntas y Respuestas de Geografía\":\n",
    "    - El juego consiste en hacer preguntas de geografía y que el jugador adivine la respuesta correcta.\n",
    "\n",
    "    - Cada pregunta tiene una respuesta única y correcta.\n",
    "\n",
    "    - El jugador tiene un número limitado de intentos para responder correctamente a cada pregunta.\n",
    "\n",
    "    - El juego sigue hasta que el jugador responda incorrectamente 3 de veces o haya respondido 5 preguntas correctamente.\n"
   ]
  },
  {
   "cell_type": "code",
   "execution_count": 2,
   "metadata": {},
   "outputs": [
    {
     "data": {
      "text/plain": [
       "{'el país más grande del mundo por superficie': 'Rusia',\n",
       " '¿En qué continente se encuentra el desierto del Sahara': 'africa',\n",
       " '¿Cuál es el río más largo del mundo': 'El rio Amazonas',\n",
       " '¿Qué país tiene más islas en su territorio': 'Suecia',\n",
       " '¿Cuál es la capital de Australia': 'Canberra',\n",
       " '¿Cuál es el país más pequeño del mundo': 'Vaticano',\n",
       " '¿Qué país tiene más habitantes en la actualidad': 'China',\n",
       " '¿Qué río pasa por más países': 'Danubio',\n",
       " '¿En qué país se hablan más idiomas': 'Papua, nueva guinea',\n",
       " '¿Cuántas comunidades autónomas tiene España': '17',\n",
       " '¿Cuál es la única ciudad que se encuentra en dos continentes diferentes': 'Estambul',\n",
       " '¿Cuál es la isla más grande del mundo que no es un continente': 'Groenlandia',\n",
       " '¿Cuál es el único continente sin desiertos': 'Europa',\n",
       " '¿En qué país se encuentra el Valle de la Luna, conocido por su paisaje similar al de la superficie lunar': 'Chile',\n",
       " '¿Cuál es el país más nuevo del mundo, habiendo obtenido su independencia en 2011': 'Sudan del Sur',\n",
       " '¿Cuantos océanos hay en el mundo': '5',\n",
       " '¿Donde se encuentra el mayor número de pirámides del mundo,¿Que es Madagascar ': 'La isla mas grande de Africa',\n",
       " '¿Que río pasa por más países': 'Danubio, pasa por diez paises',\n",
       " '¿Cual es la montaña mas alta del mundo': 'Monte Everest'}"
      ]
     },
     "execution_count": 2,
     "metadata": {},
     "output_type": "execute_result"
    }
   ],
   "source": [
    "diccionario_preguntas_respuestas  = {\"el país más grande del mundo por superficie\":\"Rusia\",\"¿En qué continente se encuentra el desierto del Sahara\":\"africa\",\n",
    "\"¿Cuál es el río más largo del mundo\":\"El rio Amazonas\",  \"¿Qué país tiene más islas en su territorio\":\"Suecia\",\n",
    "\"¿Cuál es la capital de Australia\":\"Canberra\",\n",
    "\"¿Cuál es el país más pequeño del mundo\":\"Vaticano\",\n",
    "\"¿Qué país tiene más habitantes en la actualidad\":\"China\",\n",
    "\"¿Qué río pasa por más países\":\"Danubio\",\n",
    "\"¿En qué país se hablan más idiomas\":\"Papua, nueva guinea\",\n",
    "\"¿Cuántas comunidades autónomas tiene España\":\"17\",\n",
    "\"¿Cuál es la única ciudad que se encuentra en dos continentes diferentes\":\"Estambul\",\n",
    "\"¿Cuál es la isla más grande del mundo que no es un continente\":\"Groenlandia\",\n",
    "\"¿Cuál es el único continente sin desiertos\": \"Europa\",\n",
    "\"¿En qué país se encuentra el Valle de la Luna, conocido por su paisaje similar al de la superficie lunar\": \"Chile\",\n",
    "\"¿Cuál es el país más nuevo del mundo, habiendo obtenido su independencia en 2011\":\"Sudan del Sur\",\n",
    "\"¿Cuantos océanos hay en el mundo\":\"5\",\n",
    "\"¿Donde se encuentra el mayor número de pirámides del mundo,¿Que es Madagascar \":\"La isla mas grande de Africa\",\n",
    "\"¿Que río pasa por más países\": \"Danubio, pasa por diez paises\",\n",
    "\"¿Cual es la montaña mas alta del mundo\":\"Monte Everest\"}\n",
    "diccionario_preguntas_respuestas"
   ]
  },
  {
   "cell_type": "code",
   "execution_count": 14,
   "metadata": {},
   "outputs": [
    {
     "name": "stdout",
     "output_type": "stream",
     "text": [
      "['¿En qué continente se encuentra el desierto del Sahara']\n",
      "j\n"
     ]
    }
   ],
   "source": [
    "import random\n",
    "\n",
    "pregunta = random.choices(list(diccionario_preguntas_respuestas))\n",
    "print(pregunta) #como unir pregunta y respuesta\n",
    "respuesta_usuario = input(pregunta) #crear un mensaje\n",
    "respuesta_correcta = #¿Como relaciono la pregunta con la respuesta? necesitamos hacer una lista del diccionario??\n",
    "\n",
    "\n",
    "\n",
    "puntos = 0\n",
    "oportunidades = 3\n",
    "\n",
    "while oportunidades > 0:\n",
    "    print(pregunta)\n",
    "    print(respuesta_usuario)\n",
    "    if respuesta_usuario.lower() == respuesta_correcta.lower():\n",
    "        print(¡Acertaste!)\n",
    "        puntos += 1\n",
    "    else:\n",
    "        print('¡Oh, fallaste!')\n",
    "        oportunidades -= 1     \n",
    "else: \n",
    "print('Perdiste')\n",
    "    \n",
    "   "
   ]
  }
 ],
 "metadata": {
  "kernelspec": {
   "display_name": "adalab",
   "language": "python",
   "name": "python3"
  },
  "language_info": {
   "codemirror_mode": {
    "name": "ipython",
    "version": 3
   },
   "file_extension": ".py",
   "mimetype": "text/x-python",
   "name": "python",
   "nbconvert_exporter": "python",
   "pygments_lexer": "ipython3",
   "version": "3.9.7"
  }
 },
 "nbformat": 4,
 "nbformat_minor": 2
}
