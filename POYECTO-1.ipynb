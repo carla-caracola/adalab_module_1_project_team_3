{
 "cells": [
  {
   "cell_type": "code",
   "execution_count": null,
   "metadata": {},
   "outputs": [],
   "source": []
  },
  {
   "cell_type": "code",
   "execution_count": 5,
   "metadata": {},
   "outputs": [
    {
     "data": {
      "text/plain": [
       "{'el país más grande del mundo por superficie': 'Rusia',\n",
       " '¿En qué continente se encuentra el desierto del Sahara': 'africa',\n",
       " '¿Cuál es el río más largo del mundo': 'El rio Amazonas',\n",
       " '¿Qué país tiene más islas en su territorio': 'Suecia',\n",
       " '¿Cuál es la capital de Australia': 'Canberra',\n",
       " '¿Cuál es el país más pequeño del mundo': 'Vaticano',\n",
       " '¿Qué país tiene más habitantes en la actualidad': 'China',\n",
       " '¿Qué río pasa por más países': 'Danubio',\n",
       " '¿En qué país se hablan más idiomas': 'Papua, nueva guinea',\n",
       " '¿Cuántas comunidades autónomas tiene España': '17',\n",
       " '¿Cuál es la única ciudad que se encuentra en dos continentes diferentes': 'Estambul',\n",
       " '¿Cuál es la isla más grande del mundo que no es un continente': 'Groenlandia',\n",
       " '¿Cuál es el único continente sin desiertos': 'Europa',\n",
       " '¿En qué país se encuentra el Valle de la Luna, conocido por su paisaje similar al de la superficie lunar': 'Chile',\n",
       " '¿Cuál es el país más nuevo del mundo, habiendo obtenido su independencia en 2011': 'Sudan del Sur',\n",
       " '¿Cuantos océanos hay en el mundo': '5',\n",
       " '¿Donde se encuentra el mayor número de pirámides del mundo,¿Que es Madagascar ': 'La isla mas grande de Africa',\n",
       " '¿Que río pasa por más países': 'Danubio, pasa por diez paises',\n",
       " '¿Cual es la montaña mas alta del mundo': 'Monte Everest'}"
      ]
     },
     "execution_count": 5,
     "metadata": {},
     "output_type": "execute_result"
    }
   ],
   "source": [
    "diccionario_preguntas_respuestas  = {\"el país más grande del mundo por superficie\":\"Rusia\",\"¿En qué continente se encuentra el desierto del Sahara\":\"africa\",\n",
    "\"¿Cuál es el río más largo del mundo\":\"El rio Amazonas\",  \"¿Qué país tiene más islas en su territorio\":\"Suecia\",\n",
    "\"¿Cuál es la capital de Australia\":\"Canberra\",\n",
    "\"¿Cuál es el país más pequeño del mundo\":\"Vaticano\",\n",
    "\"¿Qué país tiene más habitantes en la actualidad\":\"China\",\n",
    "\"¿Qué río pasa por más países\":\"Danubio\",\n",
    "\"¿En qué país se hablan más idiomas\":\"Papua, nueva guinea\",\n",
    "\"¿Cuántas comunidades autónomas tiene España\":\"17\",\n",
    "\"¿Cuál es la única ciudad que se encuentra en dos continentes diferentes\":\"Estambul\",\n",
    "\"¿Cuál es la isla más grande del mundo que no es un continente\":\"Groenlandia\",\n",
    "\"¿Cuál es el único continente sin desiertos\": \"Europa\",\n",
    "\"¿En qué país se encuentra el Valle de la Luna, conocido por su paisaje similar al de la superficie lunar\": \"Chile\",\n",
    "\"¿Cuál es el país más nuevo del mundo, habiendo obtenido su independencia en 2011\":\"Sudan del Sur\",\n",
    "\"¿Cuantos océanos hay en el mundo\":\"5\",\n",
    "\"¿Donde se encuentra el mayor número de pirámides del mundo,¿Que es Madagascar \":\"La isla mas grande de Africa\",\n",
    "\"¿Que río pasa por más países\": \"Danubio, pasa por diez paises\",\n",
    "\"¿Cual es la montaña mas alta del mundo\":\"Monte Everest\"}\n",
    "diccionario_preguntas_respuestas"
   ]
  }
 ],
 "metadata": {
  "kernelspec": {
   "display_name": "adalab",
   "language": "python",
   "name": "python3"
  },
  "language_info": {
   "codemirror_mode": {
    "name": "ipython",
    "version": 3
   },
   "file_extension": ".py",
   "mimetype": "text/x-python",
   "name": "python",
   "nbconvert_exporter": "python",
   "pygments_lexer": "ipython3",
   "version": "3.9.19"
  }
 },
 "nbformat": 4,
 "nbformat_minor": 2
}
